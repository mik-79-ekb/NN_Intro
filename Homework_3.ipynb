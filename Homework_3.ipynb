{
 "cells": [
  {
   "cell_type": "markdown",
   "metadata": {},
   "source": [
    "# Домашнее задание №3"
   ]
  },
  {
   "cell_type": "markdown",
   "metadata": {},
   "source": [
    "### *Практическое задание:*"
   ]
  },
  {
   "cell_type": "markdown",
   "metadata": {},
   "source": [
    "В конце ноутбука создаются два массива с рукописными буквами и с характеристиками вина.  \n",
    "Задание на дом: выбрать датасет, возможно, предварительно обработать, создать модель нейронной сети, обучить и проверить точность на тестовом датасете. Напишите свои мысли по поводу результатов.\n",
    "При желании можно рассмотреть оба датасета, можете попробовать применить другие методы машинного обучения, известные вам, и сравнить результаты обучения."
   ]
  },
  {
   "cell_type": "code",
   "execution_count": 1,
   "metadata": {
    "id": "H-56_nQzmpNs"
   },
   "outputs": [],
   "source": [
    "import numpy as np\n",
    "import matplotlib.pyplot as plt\n",
    "from matplotlib.colors import ListedColormap\n",
    "\n",
    "from tensorflow.keras.models import Sequential\n",
    "from tensorflow.keras.layers import Dense\n",
    "import tensorflow as tf\n",
    "import random as python_random"
   ]
  },
  {
   "cell_type": "code",
   "execution_count": 2,
   "metadata": {
    "colab": {
     "base_uri": "https://localhost:8080/"
    },
    "id": "yw0u_939JgBE",
    "outputId": "4341c719-7d7b-4320-951f-7511f02487a7"
   },
   "outputs": [
    {
     "name": "stdout",
     "output_type": "stream",
     "text": [
      "2.9.1\n",
      "TensorFlow Hello World\r\n"
     ]
    }
   ],
   "source": [
    "import tensorflow as tf\n",
    "\n",
    "print(tf.__version__)\n",
    "msg = tf.constant('TensorFlow Hello World')\n",
    "tf.print(msg)"
   ]
  },
  {
   "cell_type": "code",
   "execution_count": 3,
   "metadata": {},
   "outputs": [],
   "source": [
    "from tensorflow import keras"
   ]
  },
  {
   "cell_type": "markdown",
   "metadata": {
    "id": "gAqpMfDiSkZ5"
   },
   "source": [
    "# Датасет с рукописными буквами"
   ]
  },
  {
   "cell_type": "markdown",
   "metadata": {
    "id": "m5rHCIuXVrmj"
   },
   "source": [
    "https://www.tensorflow.org/datasets/catalog/binary_alpha_digits"
   ]
  },
  {
   "cell_type": "code",
   "execution_count": 4,
   "metadata": {
    "id": "hzxgDKJvUzo9"
   },
   "outputs": [],
   "source": [
    "import matplotlib.pyplot as plt\n",
    "import numpy as np"
   ]
  },
  {
   "cell_type": "code",
   "execution_count": 5,
   "metadata": {},
   "outputs": [],
   "source": [
    "classes = [str(i) for i in range(10)] +  list('ABCDEFGHIJKLMNOPQRSTUVWXYZ')"
   ]
  },
  {
   "cell_type": "code",
   "execution_count": 6,
   "metadata": {},
   "outputs": [
    {
     "data": {
      "text/plain": [
       "36"
      ]
     },
     "execution_count": 6,
     "metadata": {},
     "output_type": "execute_result"
    }
   ],
   "source": [
    "len(classes)"
   ]
  },
  {
   "cell_type": "code",
   "execution_count": 7,
   "metadata": {
    "id": "OMHXQi0ZSimY"
   },
   "outputs": [
    {
     "name": "stdout",
     "output_type": "stream",
     "text": [
      "['0', '1', '2', '3', '4', '5', '6', '7', '8', '9', 'A', 'B', 'C', 'D', 'E', 'F', 'G', 'H', 'I', 'J', 'K', 'L', 'M', 'N', 'O', 'P', 'Q', 'R', 'S', 'T', 'U', 'V', 'W', 'X', 'Y', 'Z']\n"
     ]
    }
   ],
   "source": [
    "classes = [str(i) for i in range(10)] +  list('ABCDEFGHIJKLMNOPQRSTUVWXYZ')\n",
    "print(classes)\n",
    "\n",
    "X = np.load('binary_alpha_digits_images.npy')\n",
    "Y = np.load('binary_alpha_digits_labels.npy')"
   ]
  },
  {
   "cell_type": "code",
   "execution_count": 8,
   "metadata": {},
   "outputs": [
    {
     "data": {
      "text/plain": [
       "26"
      ]
     },
     "execution_count": 8,
     "metadata": {},
     "output_type": "execute_result"
    }
   ],
   "source": [
    "len(list('ABCDEFGHIJKLMNOPQRSTUVWXYZ'))"
   ]
  },
  {
   "cell_type": "code",
   "execution_count": 9,
   "metadata": {
    "id": "-KABm1zlKMi-"
   },
   "outputs": [
    {
     "data": {
      "text/plain": [
       "((1404, 20, 16), (1404,))"
      ]
     },
     "execution_count": 9,
     "metadata": {},
     "output_type": "execute_result"
    }
   ],
   "source": [
    "X.shape, Y.shape"
   ]
  },
  {
   "cell_type": "code",
   "execution_count": 10,
   "metadata": {
    "id": "mP7Xm1Za-Bxw",
    "scrolled": true
   },
   "outputs": [
    {
     "data": {
      "image/png": "[encoded data removed]",
      "text/plain": [
       "<Figure size 432x288 with 2 Axes>"
      ]
     },
     "metadata": {
      "needs_background": "light"
     },
     "output_type": "display_data"
    }
   ],
   "source": [
    "plt.figure()\n",
    "plt.imshow(X[0])\n",
    "plt.colorbar()\n",
    "plt.grid(False)\n",
    "plt.show()"
   ]
  },
  {
   "cell_type": "code",
   "execution_count": 11,
   "metadata": {
    "id": "4nmyuGLyC3W9"
   },
   "outputs": [
    {
     "data": {
      "image/png": "[encoded data removed]",
      "text/plain": [
       "<Figure size 720x360 with 15 Axes>"
      ]
     },
     "metadata": {},
     "output_type": "display_data"
    }
   ],
   "source": [
    "fig, axes = plt.subplots(3, 5, figsize=(10, 5))\n",
    "fig.suptitle('binary alpha digits', fontsize=20)\n",
    "n = 0\n",
    "for ax in axes.flat:\n",
    "    ax.set_yticks([])\n",
    "    ax.set_xticks([])\n",
    "    ax.imshow(X[n], cmap=plt.cm.binary)\n",
    "    ax.set_xlabel(classes[Y[n]])\n",
    "    n += 1"
   ]
  },
  {
   "cell_type": "code",
   "execution_count": 12,
   "metadata": {},
   "outputs": [],
   "source": [
    "X = X / 255.0"
   ]
  },
  {
   "cell_type": "markdown",
   "metadata": {},
   "source": [
    "#### Вариант 1"
   ]
  },
  {
   "cell_type": "code",
   "execution_count": 13,
   "metadata": {},
   "outputs": [],
   "source": [
    "model = keras.Sequential([\n",
    "    keras.layers.Flatten(input_shape=(20, 16)),\n",
    "    keras.layers.Dense(128, activation='relu', \n",
    "                       kernel_regularizer=tf.keras.regularizers.L2(l2=10),\n",
    "                       bias_regularizer=tf.keras.regularizers.L2(l2=0.1)),\n",
    "    keras.layers.Dropout(0.05),\n",
    "    keras.layers.BatchNormalization(),\n",
    "    keras.layers.Dense(128, activation='relu'),\n",
    "    keras.layers.BatchNormalization(),\n",
    "    keras.layers.Dense(256, activation='relu'),   \n",
    "    keras.layers.BatchNormalization(),\n",
    "    keras.layers.Dense(128, activation='relu'),\n",
    "    keras.layers.BatchNormalization(),\n",
    "    keras.layers.Dense(62, activation='relu'),\n",
    "    keras.layers.BatchNormalization(),\n",
    "    keras.layers.Dense(36)\n",
    "])"
   ]
  },
  {
   "cell_type": "code",
   "execution_count": 14,
   "metadata": {
    "scrolled": true
   },
   "outputs": [
    {
     "name": "stdout",
     "output_type": "stream",
     "text": [
      "Model: \"sequential\"\n",
      "_________________________________________________________________\n",
      " Layer (type)                Output Shape              Param #   \n",
      "=================================================================\n",
      " flatten (Flatten)           (None, 320)               0         \n",
      "                                                                 \n",
      " dense (Dense)               (None, 128)               41088     \n",
      "                                                                 \n",
      " dropout (Dropout)           (None, 128)               0         \n",
      "                                                                 \n",
      " batch_normalization (BatchN  (None, 128)              512       \n",
      " ormalization)                                                   \n",
      "                                                                 \n",
      " dense_1 (Dense)             (None, 128)               16512     \n",
      "                                                                 \n",
      " batch_normalization_1 (Batc  (None, 128)              512       \n",
      " hNormalization)                                                 \n",
      "                                                                 \n",
      " dense_2 (Dense)             (None, 256)               33024     \n",
      "                                                                 \n",
      " batch_normalization_2 (Batc  (None, 256)              1024      \n",
      " hNormalization)                                                 \n",
      "                                                                 \n",
      " dense_3 (Dense)             (None, 128)               32896     \n",
      "                                                                 \n",
      " batch_normalization_3 (Batc  (None, 128)              512       \n",
      " hNormalization)                                                 \n",
      "                                                                 \n",
      " dense_4 (Dense)             (None, 62)                7998      \n",
      "                                                                 \n",
      " batch_normalization_4 (Batc  (None, 62)               248       \n",
      " hNormalization)                                                 \n",
      "                                                                 \n",
      " dense_5 (Dense)             (None, 36)                2268      \n",
      "                                                                 \n",
      "=================================================================\n",
      "Total params: 136,594\n",
      "Trainable params: 135,190\n",
      "Non-trainable params: 1,404\n",
      "_________________________________________________________________\n"
     ]
    }
   ],
   "source": [
    "model.summary()"
   ]
  },
  {
   "cell_type": "code",
   "execution_count": 15,
   "metadata": {},
   "outputs": [],
   "source": [
    "model.compile(optimizer=tf.keras.optimizers.Adam(learning_rate=0.001),\n",
    "              loss=tf.keras.losses.SparseCategoricalCrossentropy(from_logits=True),\n",
    "              metrics=['accuracy'])"
   ]
  },
  {
   "cell_type": "code",
   "execution_count": 16,
   "metadata": {
    "scrolled": true
   },
   "outputs": [
    {
     "name": "stdout",
     "output_type": "stream",
     "text": [
      "Epoch 1/30\n",
      "44/44 [==============================] - 2s 4ms/step - loss: 1068.0424 - accuracy: 0.0933\n",
      "Epoch 2/30\n",
      "44/44 [==============================] - 0s 4ms/step - loss: 265.2519 - accuracy: 0.2080\n",
      "Epoch 3/30\n",
      "44/44 [==============================] - 0s 4ms/step - loss: 53.9309 - accuracy: 0.2792\n",
      "Epoch 4/30\n",
      "44/44 [==============================] - 0s 4ms/step - loss: 10.5061 - accuracy: 0.3162\n",
      "Epoch 5/30\n",
      "44/44 [==============================] - 0s 4ms/step - loss: 3.6291 - accuracy: 0.3041\n",
      "Epoch 6/30\n",
      "44/44 [==============================] - 0s 4ms/step - loss: 2.8065 - accuracy: 0.3198\n",
      "Epoch 7/30\n",
      "44/44 [==============================] - 0s 4ms/step - loss: 2.5319 - accuracy: 0.3205\n",
      "Epoch 8/30\n",
      "44/44 [==============================] - 0s 4ms/step - loss: 2.4451 - accuracy: 0.3333\n",
      "Epoch 9/30\n",
      "44/44 [==============================] - 0s 4ms/step - loss: 2.3691 - accuracy: 0.3447\n",
      "Epoch 10/30\n",
      "44/44 [==============================] - 0s 4ms/step - loss: 2.3527 - accuracy: 0.3697\n",
      "Epoch 11/30\n",
      "44/44 [==============================] - 0s 5ms/step - loss: 2.2554 - accuracy: 0.3825\n",
      "Epoch 12/30\n",
      "44/44 [==============================] - 0s 5ms/step - loss: 2.2854 - accuracy: 0.3775\n",
      "Epoch 13/30\n",
      "44/44 [==============================] - 0s 5ms/step - loss: 2.2146 - accuracy: 0.3782\n",
      "Epoch 14/30\n",
      "44/44 [==============================] - 0s 6ms/step - loss: 2.1888 - accuracy: 0.3868\n",
      "Epoch 15/30\n",
      "44/44 [==============================] - 0s 6ms/step - loss: 2.2133 - accuracy: 0.3882\n",
      "Epoch 16/30\n",
      "44/44 [==============================] - 0s 5ms/step - loss: 2.1677 - accuracy: 0.4067\n",
      "Epoch 17/30\n",
      "44/44 [==============================] - 0s 6ms/step - loss: 2.1606 - accuracy: 0.4131\n",
      "Epoch 18/30\n",
      "44/44 [==============================] - 0s 5ms/step - loss: 2.1765 - accuracy: 0.4060\n",
      "Epoch 19/30\n",
      "44/44 [==============================] - 0s 6ms/step - loss: 2.1606 - accuracy: 0.3953\n",
      "Epoch 20/30\n",
      "44/44 [==============================] - 0s 6ms/step - loss: 2.0902 - accuracy: 0.4024\n",
      "Epoch 21/30\n",
      "44/44 [==============================] - 0s 5ms/step - loss: 2.1022 - accuracy: 0.4245\n",
      "Epoch 22/30\n",
      "44/44 [==============================] - 0s 6ms/step - loss: 2.0512 - accuracy: 0.4152\n",
      "Epoch 23/30\n",
      "44/44 [==============================] - 0s 5ms/step - loss: 2.1472 - accuracy: 0.3967\n",
      "Epoch 24/30\n",
      "44/44 [==============================] - 0s 6ms/step - loss: 2.0286 - accuracy: 0.4345\n",
      "Epoch 25/30\n",
      "44/44 [==============================] - 0s 6ms/step - loss: 2.0344 - accuracy: 0.4181\n",
      "Epoch 26/30\n",
      "44/44 [==============================] - 0s 6ms/step - loss: 2.1112 - accuracy: 0.4017\n",
      "Epoch 27/30\n",
      "44/44 [==============================] - 0s 6ms/step - loss: 2.0423 - accuracy: 0.4103\n",
      "Epoch 28/30\n",
      "44/44 [==============================] - 0s 5ms/step - loss: 1.9653 - accuracy: 0.4494\n",
      "Epoch 29/30\n",
      "44/44 [==============================] - 0s 5ms/step - loss: 1.9744 - accuracy: 0.4494\n",
      "Epoch 30/30\n",
      "44/44 [==============================] - 0s 5ms/step - loss: 2.0886 - accuracy: 0.4252\n"
     ]
    }
   ],
   "source": [
    "hstr = model.fit(X, Y, epochs=30, verbose=1)"
   ]
  },
  {
   "cell_type": "markdown",
   "metadata": {},
   "source": [
    "#### Вариант 2"
   ]
  },
  {
   "cell_type": "code",
   "execution_count": 17,
   "metadata": {},
   "outputs": [],
   "source": [
    "model = keras.Sequential([\n",
    "    keras.layers.Flatten(input_shape=(20, 16)),\n",
    "    keras.layers.Dense(128, activation='relu'),\n",
    "    keras.layers.Dense(36)\n",
    "])\n",
    "\n",
    "model.compile(optimizer=tf.keras.optimizers.Adam(learning_rate=0.001),\n",
    "              loss=tf.keras.losses.SparseCategoricalCrossentropy(from_logits=True),\n",
    "              metrics=['accuracy'])\n"
   ]
  },
  {
   "cell_type": "code",
   "execution_count": 18,
   "metadata": {},
   "outputs": [
    {
     "name": "stdout",
     "output_type": "stream",
     "text": [
      "Epoch 1/30\n",
      "44/44 [==============================] - 1s 3ms/step - loss: 3.5814 - accuracy: 0.0577\n",
      "Epoch 2/30\n",
      "44/44 [==============================] - 0s 3ms/step - loss: 3.5721 - accuracy: 0.1118\n",
      "Epoch 3/30\n",
      "44/44 [==============================] - 0s 3ms/step - loss: 3.5576 - accuracy: 0.1189\n",
      "Epoch 4/30\n",
      "44/44 [==============================] - 0s 3ms/step - loss: 3.5341 - accuracy: 0.2350\n",
      "Epoch 5/30\n",
      "44/44 [==============================] - 0s 3ms/step - loss: 3.4998 - accuracy: 0.2607\n",
      "Epoch 6/30\n",
      "44/44 [==============================] - 0s 3ms/step - loss: 3.4518 - accuracy: 0.2642\n",
      "Epoch 7/30\n",
      "44/44 [==============================] - 0s 3ms/step - loss: 3.3914 - accuracy: 0.3219\n",
      "Epoch 8/30\n",
      "44/44 [==============================] - 0s 3ms/step - loss: 3.3180 - accuracy: 0.3718\n",
      "Epoch 9/30\n",
      "44/44 [==============================] - 0s 3ms/step - loss: 3.2344 - accuracy: 0.3981\n",
      "Epoch 10/30\n",
      "44/44 [==============================] - 0s 3ms/step - loss: 3.1443 - accuracy: 0.4174\n",
      "Epoch 11/30\n",
      "44/44 [==============================] - 0s 3ms/step - loss: 3.0501 - accuracy: 0.4380\n",
      "Epoch 12/30\n",
      "44/44 [==============================] - 0s 3ms/step - loss: 2.9545 - accuracy: 0.4466\n",
      "Epoch 13/30\n",
      "44/44 [==============================] - 0s 3ms/step - loss: 2.8593 - accuracy: 0.4573\n",
      "Epoch 14/30\n",
      "44/44 [==============================] - 0s 3ms/step - loss: 2.7668 - accuracy: 0.4915\n",
      "Epoch 15/30\n",
      "44/44 [==============================] - 0s 3ms/step - loss: 2.6783 - accuracy: 0.5036\n",
      "Epoch 16/30\n",
      "44/44 [==============================] - 0s 3ms/step - loss: 2.5913 - accuracy: 0.5135\n",
      "Epoch 17/30\n",
      "44/44 [==============================] - 0s 3ms/step - loss: 2.5103 - accuracy: 0.5349\n",
      "Epoch 18/30\n",
      "44/44 [==============================] - 0s 3ms/step - loss: 2.4316 - accuracy: 0.5449\n",
      "Epoch 19/30\n",
      "44/44 [==============================] - 0s 3ms/step - loss: 2.3581 - accuracy: 0.5527\n",
      "Epoch 20/30\n",
      "44/44 [==============================] - 0s 3ms/step - loss: 2.2874 - accuracy: 0.5605\n",
      "Epoch 21/30\n",
      "44/44 [==============================] - 0s 3ms/step - loss: 2.2220 - accuracy: 0.5719\n",
      "Epoch 22/30\n",
      "44/44 [==============================] - 0s 2ms/step - loss: 2.1589 - accuracy: 0.5776\n",
      "Epoch 23/30\n",
      "44/44 [==============================] - 0s 3ms/step - loss: 2.0998 - accuracy: 0.5776\n",
      "Epoch 24/30\n",
      "44/44 [==============================] - 0s 3ms/step - loss: 2.0428 - accuracy: 0.5833\n",
      "Epoch 25/30\n",
      "44/44 [==============================] - 0s 3ms/step - loss: 1.9890 - accuracy: 0.5962\n",
      "Epoch 26/30\n",
      "44/44 [==============================] - 0s 3ms/step - loss: 1.9401 - accuracy: 0.6040\n",
      "Epoch 27/30\n",
      "44/44 [==============================] - 0s 3ms/step - loss: 1.8951 - accuracy: 0.6061\n",
      "Epoch 28/30\n",
      "44/44 [==============================] - 0s 3ms/step - loss: 1.8491 - accuracy: 0.6111\n",
      "Epoch 29/30\n",
      "44/44 [==============================] - 0s 3ms/step - loss: 1.8055 - accuracy: 0.6125\n",
      "Epoch 30/30\n",
      "44/44 [==============================] - 0s 3ms/step - loss: 1.7656 - accuracy: 0.6254\n"
     ]
    }
   ],
   "source": [
    "hstr = model.fit(X, Y, epochs=30, verbose=1)"
   ]
  },
  {
   "cell_type": "markdown",
   "metadata": {},
   "source": [
    "#### Основные выводы:"
   ]
  },
  {
   "cell_type": "markdown",
   "metadata": {},
   "source": [
    "Более простая модель показала лучшие результаты на тренировочной выборке. Предполагаю, что это произошло за счет отчутствия регуляризации, что модет привести к переобучению и худшим результатам такой модели на тестовой выборке"
   ]
  },
  {
   "cell_type": "markdown",
   "metadata": {},
   "source": [
    "Увеличение значения Дропаут, а также параметров регуляризации ведет к снижению целевой метрики"
   ]
  },
  {
   "cell_type": "markdown",
   "metadata": {},
   "source": [
    "Увеличение количества слоев влияет на метрику незначительно"
   ]
  },
  {
   "cell_type": "markdown",
   "metadata": {},
   "source": [
    "Увеличение количества эпох (в разумных рамках) улучшает результаты обеих моделей"
   ]
  }
 ],
 "metadata": {
  "accelerator": "GPU",
  "colab": {
   "collapsed_sections": [],
   "name": "Lesson 3.ipynb",
   "provenance": []
  },
  "kernelspec": {
   "display_name": "Python 3",
   "language": "python",
   "name": "python3"
  },
  "language_info": {
   "codemirror_mode": {
    "name": "ipython",
    "version": 3
   },
   "file_extension": ".py",
   "mimetype": "text/x-python",
   "name": "python",
   "nbconvert_exporter": "python",
   "pygments_lexer": "ipython3",
   "version": "3.8.5"
  }
 },
 "nbformat": 4,
 "nbformat_minor": 1
}
